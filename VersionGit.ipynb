{
 "cells": [
  {
   "cell_type": "code",
   "execution_count": 303,
   "metadata": {
    "extensions": {
     "jupyter_dashboards": {
      "version": 1,
      "views": {
       "default_view": {
        "hidden": true
       }
      }
     }
    }
   },
   "outputs": [],
   "source": [
    "import numpy as np\n",
    "import plotly.graph_objects as go\n",
    "from ipywidgets import widgets\n",
    "import ipywidgets\n",
    "from IPython.display import display, Math, Latex"
   ]
  },
  {
   "cell_type": "code",
   "execution_count": 304,
   "metadata": {
    "extensions": {
     "jupyter_dashboards": {
      "version": 1,
      "views": {
       "default_view": {
        "hidden": true
       }
      }
     }
    }
   },
   "outputs": [],
   "source": [
    "#Création des curseurs de sélection des paramètres du système\n",
    "\n",
    "updt=False #variable de mise à jour continue\n",
    "dsb=False #variable de disponibilité du widget\n",
    "\n",
    "style = {'description_width': 'initial','button_width':'initial'} #style permettant de gérer l'affichage complet du texte\n",
    "maxi=[60.0,50.0,14,100,40,60,60,4000,100]#tableau des maximaux initiaux des sliders \n",
    "#FloatSliders pour les paramètres\n",
    "Fiso= widgets.FloatSlider(\n",
    "    value=45.0,\n",
    "    min=0.1,\n",
    "    max=maxi[0],\n",
    "    step=0.001,\n",
    "    description='$F_{iso}$',\n",
    "    continuous_update=updt,\n",
    "    disabled=dsb,\n",
    "    style=style,\n",
    "    tooltip='Description',\n",
    "    )\n",
    "Rfb= widgets.FloatSlider(\n",
    "    value=3,\n",
    "    min=0.1,\n",
    "    max=maxi[1],\n",
    "    step=0.001,\n",
    "    description=\"$R_{fb}$\",\n",
    "    continuous_update=updt,\n",
    "    disabled=dsb,\n",
    "    style=style\n",
    ")\n",
    "It= widgets.FloatSlider(\n",
    "    value=10.0,\n",
    "    min=0.1,\n",
    "    max=maxi[2],\n",
    "    step=0.001,\n",
    "    description=\"$I_T$\",\n",
    "    continuous_update=updt,\n",
    "    disabled=dsb,\n",
    "    style=style\n",
    ")\n",
    "Rm= widgets.FloatSlider(\n",
    "    value=39,\n",
    "    min=0.1,\n",
    "    max=maxi[4],\n",
    "    step=0.001,\n",
    "    description=\"$R_M$\",\n",
    "    continuous_update=updt,\n",
    "    disabled=dsb,\n",
    "    style=style\n",
    ")\n",
    "B= widgets.FloatSlider(\n",
    "    value=16.0,\n",
    "    min=0.1,\n",
    "    max=maxi[3],\n",
    "    step=0.001,\n",
    "    description=\"$B$\",\n",
    "    continuous_update=updt,\n",
    "    disabled=dsb,\n",
    "    style=style\n",
    ")\n",
    "\n",
    "\n",
    "Mu=widgets.FloatRangeSlider(\n",
    "    value=[10.0,40.0],\n",
    "    min=0.1,\n",
    "    max=maxi[7],\n",
    "    step=0.001,\n",
    "    description='$\\mu_--\\mu_+$',\n",
    "    continuous_update=updt,\n",
    "    disabled=not dsb,\n",
    "    color='#C14535',\n",
    "    style=style\n",
    "    )\n",
    "Rp= widgets.FloatSlider(\n",
    "    value=45.0,\n",
    "    min=0.1,\n",
    "    max=maxi[6],\n",
    "    step=0.001,\n",
    "    description='$R_+$',\n",
    "    continuous_update=updt,\n",
    "    disabled=not dsb,\n",
    "    style=style\n",
    "    )\n",
    "Re= widgets.FloatSlider(\n",
    "    value=45.0,\n",
    "    min=0.1,\n",
    "    max=maxi[5],\n",
    "    step=0.001,\n",
    "    description='$R_E$',\n",
    "    continuous_update=updt,\n",
    "    disabled=not dsb,\n",
    "    style=style\n",
    "    )\n",
    "Alph= widgets.FloatSlider(\n",
    "    value=45.0,\n",
    "    min=0.1,\n",
    "    max=maxi[8],\n",
    "    step=0.001,\n",
    "    description='$\\propto $',\n",
    "    continuous_update=updt,\n",
    "    disabled=not dsb,\n",
    "    style=style\n",
    "    )\n",
    "#Choix multiple pour le modèle de corps à suivre\n",
    "Corps=widgets.RadioButtons(\n",
    "    options=['sportif', 'sédentaire', 'obèse','aucun'],\n",
    "    value='aucun',\n",
    "    layout={'width': 'max-content'},\n",
    "    description='Modèle suivi',\n",
    "    disabled=False\n",
    ")"
   ]
  },
  {
   "cell_type": "code",
   "execution_count": 305,
   "metadata": {
    "extensions": {
     "jupyter_dashboards": {
      "version": 1,
      "views": {
       "default_view": {
        "hidden": true
       }
      }
     }
    }
   },
   "outputs": [],
   "source": [
    "#Bouton pour l'évolution des courbes en temps réel\n",
    "BoutonMaj=widgets.Checkbox(\n",
    "    value=False,\n",
    "    description='Mise à jour continue',\n",
    "    disabled=False,\n",
    "    button_style='', # 'success', 'info', 'warning', 'danger' or ''\n",
    "    tooltip='Description',\n",
    "    style=style\n",
    ")\n",
    "\n",
    "def temps_reel(updt):\n",
    "    Fiso.continuous_update=updt\n",
    "    Rfb.continuous_update=updt\n",
    "    It.continuous_update=updt\n",
    "    Rm.continuous_update=updt\n",
    "    B.continuous_update=updt\n",
    "    Re.continuous_update=updt\n",
    "    Rp.continuous_update=updt\n",
    "    Alph.continuous_update=updt\n",
    "    Mu.continuous_update=updt\n",
    "temps_reel(updt)\n"
   ]
  },
  {
   "cell_type": "code",
   "execution_count": 306,
   "metadata": {
    "extensions": {
     "jupyter_dashboards": {
      "version": 1,
      "views": {
       "default_view": {
        "hidden": true
       }
      }
     }
    }
   },
   "outputs": [],
   "source": [
    "#coefficients des paramètres\n",
    "prop=[1,1/10,1/10,1/100,1,1,1,1,1,1/1000]\n",
    "\n",
    "#inverse des coefficients\n",
    "iprop=[1/x for x in prop]\n",
    "\n",
    "#Fonction donnant les valeurs des paramètres\n",
    "def val():\n",
    "    return Fiso.value*prop[0],Rfb.value*prop[1],It.value*prop[2],Rm.value*prop[3],B.value*prop[4],Re.value*prop[5],Rp.value*prop[6],Mu.value[1]*prop[7],Mu.value[0]*prop[8],Alph.value*prop[9]\n",
    "\n",
    "#Bouton de passage à la représentation duale\n",
    "desc=['eprésentation métabolique','eprésentation thermodynamique']\n",
    "BoutonDual=widgets.ToggleButton(\n",
    "    value=False,\n",
    "    description='R'+desc[0],\n",
    "    disabled=False,\n",
    "    button_style='info', # 'success', 'info', 'warning', 'danger' or ''\n",
    "    tooltip='Cliquer pour passer à la représentation thermodynamique',\n",
    "    style=style,\n",
    "    layout=widgets.Layout(width='auto')\n",
    ")\n",
    "\n",
    "#Calcul du facteur de mérite\n",
    "def fm():\n",
    "    F,R_fb,I_t,R_m,B_,R_e,R_p,Mu_p,Mu_m,A=val()\n",
    "    return F*R_fb*I_t/(R_m*B_)\n",
    "\n",
    "#Affichage du facteur de mérite\n",
    "FM=widgets.HTMLMath(\n",
    "    value=r\"$f_M=\\frac{R_{fb}F_{iso}I_T}{R_MB}=$ \",\n",
    "    placeholder='',\n",
    "    description='',\n",
    "    tooltip='Description',\n",
    "    style=style,\n",
    "    layout=widgets.Layout(width='auto')\n",
    ")\n",
    "FM2=widgets.FloatText(\n",
    "    value=(fm()//0.01)*0.01,\n",
    "    description='',\n",
    "    disabled=True,\n",
    "    layout=widgets.Layout(width='auto')\n",
    ")"
   ]
  },
  {
   "cell_type": "code",
   "execution_count": 307,
   "metadata": {
    "extensions": {
     "jupyter_dashboards": {
      "version": 1,
      "views": {
       "default_view": {
        "hidden": true
       }
      }
     }
    }
   },
   "outputs": [],
   "source": [
    "#Fonction calculant l'étendue de l'axe des x\n",
    "def fin():\n",
    "    F,R_fb,I_t,R_m,B_,R_e,R_p,Mu_p,Mu_m,A=val()\n",
    "    return((-(R_m+R_fb)*I_t+np.sqrt(((R_m+R_fb)**2)*(I_t**2)+4*F*R_m*I_t))/(2*R_m))\n",
    "X=np.arange(0.0000,fin()+0.001,0.1)\n",
    "\n",
    "#Fonction décrivant les flux d'énergie, la puissance et le COT suivant la vitesse\n",
    "def f(x) :\n",
    "    F,R_fb,I_t,R_m,B_,R_e,R_p,Mu_p,Mu_m,A=val()\n",
    "    r=B_/(F*I_t)\n",
    "    Eta=F/(F+R_fb*I_t*(1-r))\n",
    "    #Eta=(Mu_p-Mu_m)/Mu_p+0.000001\n",
    "    Rh=(F+R_fb*I_t)/(I_t+x)\n",
    "    fp=(F*x/Eta+B_)*I_t/(I_t+x)\n",
    "    fm=R_m*x*x+(R_fb*x*x+F*(1/Eta-1)*x+B_)*I_t/(I_t+x)\n",
    "    p=(F-(R_m+Rh)*x)*x\n",
    "    cot=fm/(x+0.000000000000000000000000000000000000001)\n",
    "    rendement=p/fp\n",
    "    force=F-(R_m+Rh)*x\n",
    "    \n",
    "    return [fp,fm,p,cot,rendement,force]\n",
    "Y=f(X)"
   ]
  },
  {
   "cell_type": "code",
   "execution_count": 308,
   "metadata": {
    "extensions": {
     "jupyter_dashboards": {
      "version": 1,
      "views": {
       "default_view": {
        "col": 0,
        "height": 2,
        "hidden": true,
        "row": 26,
        "width": 12
       }
      }
     }
    }
   },
   "outputs": [],
   "source": [
    "#Création des graphiquesfm\n",
    "\n",
    "#Graphique de Puissance\n",
    "trace1=go.Scatter(x=X,y=Y[0],name=\"Flux entrant\")\n",
    "trace2=go.Scatter(x=X,y=Y[1],name=\"Flux sortant\")\n",
    "trace3=go.Scatter(x=X,y=Y[2],name=\"Puissance\")\n",
    "g = go.FigureWidget(data=[trace1,trace2,trace3],\n",
    "                    layout=go.Layout(\n",
    "                        title=dict(text=\"Flux d'énergie et Puissance\"),\n",
    "                        paper_bgcolor=\"white\",\n",
    "                        plot_bgcolor=\"azure\"\n",
    "                    ))\n",
    "g.update_xaxes(title=\"v en m/s\")\n",
    "g.update_yaxes(title=\"puissance (unités arbitraires)\")\n",
    "\n",
    "#Police et forme\n",
    "g.update_layout(\n",
    "    font=dict(\n",
    "            family=\"sans-serif\",\n",
    "            size=15,\n",
    "            color=\"black\"\n",
    "    ),\n",
    "    legend=dict(\n",
    "        x=0,\n",
    "        y=1,\n",
    "        traceorder=\"normal\",\n",
    "        font=dict(\n",
    "            family=\"sans-serif\",\n",
    "            size=12,\n",
    "            color=\"black\"\n",
    "        ),\n",
    "        bgcolor=\"LightSteelBlue\",\n",
    "        bordercolor=\"Black\",\n",
    "        borderwidth=2\n",
    "    )\n",
    ")\n",
    "\n",
    "#Graphique de COT\n",
    "trace4=go.Scatter(x=X,y=Y[3],name=\"COT\")\n",
    "g2 = go.FigureWidget(data=[trace4],layout=g.layout)\n",
    "g2.update_layout(title=dict(text=\"COT\"),legend=dict(x=-2,y=1))\n",
    "g2.update_xaxes(title=\"v en m/s\")\n",
    "g2.update_yaxes(title=\"COT (unités arbitraires)\")\n",
    "\n",
    "#Graphique Rendement/Puissance\n",
    "trace5=go.Scatter(x=Y[2],y=Y[4],name=\"Rendement\",line=dict(color='green'))\n",
    "g4 = go.FigureWidget(data=[trace5],layout=g.layout)\n",
    "g4.update_layout(title=dict(text=\"Rendement/Puissance\"),legend=dict(x=-2,y=1))\n",
    "g4.update_xaxes(title=\"Puissance (unités arbitraires)\")\n",
    "g4.update_yaxes(title=\"Rendement (unités arbitraires)\")\n",
    "\n",
    "\n",
    "#Graphique Force\n",
    "trace6=go.Scatter(x=X[0:len(X)-1],y=Y[5][2:len(X)-1],name=\"Force\",line=dict(color='black'))\n",
    "g5 = go.FigureWidget(data=[trace6],layout=g.layout)\n",
    "g5.update_layout(title=dict(text=\"Force\"),legend=dict(x=-2,y=1))\n",
    "g5.update_xaxes(title=\"v en m/s\")\n",
    "g5.update_yaxes(title=\"Force (unités arbitraires)\")\n",
    "\n",
    "#Graphique polaire\n",
    "trace7=go.Scatterpolar(\n",
    "    name = \"Paramètres actuels\",\n",
    "    theta = [\"<b>Force isométrique<b>\", \"<b>Résistance de rétroaction<b>\", \"<b>Seuil d'intensité<b>\", \"<b>Flux basal<b>\", \"<b>Résistance de dissipation<b>\"],\n",
    "    r = 5*np.array([Fiso.value/Fiso.max, Rfb.value/Rfb.max, It.value/It.max, B.value/B.max, Rm.value/Rm.max]),\n",
    "    fill='toself'\n",
    "    )\n",
    "trace8=go.Scatterpolar(name=\"Sportif\",r=[4,3,4,4,2],theta = [\"<b>Force isométrique<b>\", \"<b>Résistance de rétroaction<b>\", \"<b>Seuil d'intensité<b>\", \"<b>Flux basal<b>\", \"<b>Résistance de dissipation<b>\"],fill='toself')\n",
    "trace9=go.Scatterpolar(name=\"Sédentaire\",r=[3.001,2.001,3.001,3.001,3.001],theta = [\"<b>Force isométrique<b>\", \"<b>Résistance de rétroaction<b>\", \"<b>Seuil d'intensité<b>\", \"<b>Flux basal<b>\", \"<b>Résistance de dissipation<b>\"],fill='toself')\n",
    "trace10=go.Scatterpolar(name=\"Obèse\",r=[3.002,2.0002,1.002,4.998,1.002],theta = [\"<b>Force isométrique<b>\", \"<b>Résistance de rétroaction<b>\", \"<b>Seuil d'intensité<b>\", \"<b>Flux basal<b>\", \"<b>Résistance de dissipation<b>\"],fill='toself')\n",
    "\n",
    "g3 = go.FigureWidget(data=[trace7,trace8,trace9,trace10],layout=g.layout)\n",
    "g3.update_layout(title=dict(text=\"Paramètres\"),legend=dict(x=1,y=1))\n",
    "\n",
    "#Nom des axes\n",
    "\n",
    "#Annotations\n",
    "def abx():#Pour obtenir les coordonnées des annotations\n",
    "    pmax=np.amax(g.data[2].y)\n",
    "    ixpmax=np.where(g.data[2].y==pmax)[0][0]\n",
    "    xpmax=g.data[2].x[ixpmax]\n",
    "    cotmin=np.amin(g2.data[0].y)\n",
    "    ixcotmin=np.where(g2.data[0].y==cotmin)[0][0]\n",
    "    xcotmin=g2.data[0].x[ixcotmin]\n",
    "    rendmax=np.amax(g4.data[0].y)\n",
    "    iprendmax=np.where(g4.data[0].y==rendmax)[0][0]\n",
    "    prendmax=g4.data[0].x[iprendmax]\n",
    "    return (pmax,ixpmax,xpmax,cotmin,ixcotmin,xcotmin,rendmax,prendmax)\n",
    "    \n",
    "def annotations1(g):\n",
    "    pmax,ixpmax,xpmax,cotmin,ixcotmin,xcotmin,rendmax,prendmax=abx()   \n",
    "    g.update_layout( annotations=[\n",
    "        dict(\n",
    "            x=0,\n",
    "            y=g.data[0].y[0],\n",
    "            xref=\"x\",\n",
    "            yref=\"y\",\n",
    "            text=\"Flux basal\",\n",
    "            showarrow=True,\n",
    "            arrowhead=7,\n",
    "            ax=80,\n",
    "            ay=-40,\n",
    "            #font=dict(color=\"red\")\n",
    "        ),\n",
    "        dict(\n",
    "            y=pmax,\n",
    "            x=xpmax,\n",
    "            xref=\"x\",\n",
    "            yref=\"y\",\n",
    "            text=\"Maximum de puissance\",\n",
    "            showarrow=True,\n",
    "            arrowhead=7,\n",
    "            ax=80,\n",
    "            ay=-40\n",
    "        ),\n",
    "        dict(\n",
    "            y=0,\n",
    "            x=fin(),\n",
    "            xref=\"x\",\n",
    "            yref=\"y\",\n",
    "            text=\"Épuisement\",\n",
    "            showarrow=True,\n",
    "            arrowhead=7,\n",
    "            ax=0,\n",
    "            ay=-40\n",
    "        )\n",
    "    ])\n",
    "annotations1(g)\n",
    "\n",
    "def annotations2(g):\n",
    "    pmax,ixpmax,xpmax,cotmin,ixcotmin,xcotmin,rendmax,prendmax=abx()\n",
    "    if g2.data[0].y[-1]!=cotmin :\n",
    "        g.update_layout( annotations=\n",
    "            [dict(\n",
    "                x=xcotmin,\n",
    "                y=cotmin,\n",
    "                xref=\"x\",\n",
    "                yref=\"y\",\n",
    "                text=\"COT*\",\n",
    "                showarrow=True,\n",
    "                arrowhead=7,\n",
    "                ax=10,\n",
    "                ay=-40,\n",
    "                #font=dict(color=\"red\")\n",
    "            )])\n",
    "annotations2(g2)\n",
    "\n",
    "def annotations3(g):\n",
    "    pmax,ixpmax,xpmax,cotmin,ixcotmin,xcotmin,rendmax,prendmax=abx()\n",
    "    pcotmin=f(xcotmin)[2]\n",
    "    g4.update_layout( annotations =\n",
    "         [dict(\n",
    "                x=pmax,\n",
    "                y=g4.data[0].y[ixpmax],\n",
    "                xref=\"x\",\n",
    "                yref=\"y\",\n",
    "                text=\"Puissance max\",\n",
    "                showarrow=True,\n",
    "                arrowhead=7,\n",
    "                ax=10,\n",
    "                ay=-50,\n",
    "                #font=dict(color=\"red\")\n",
    "            ),\n",
    "         dict(\n",
    "                x=pcotmin,\n",
    "                y=g4.data[0].y[ixcotmin],\n",
    "                xref=\"x\",\n",
    "                yref=\"y\",\n",
    "                text=\"COT*\",\n",
    "                showarrow=True,\n",
    "                arrowhead=7,\n",
    "                ax=10,\n",
    "                ay=40,\n",
    "                #font=dict(color=\"red\")\n",
    "            ),\n",
    "         dict(\n",
    "                x=prendmax,\n",
    "                y=rendmax,\n",
    "                xref=\"x\",\n",
    "                yref=\"y\",\n",
    "                text=\"Rendement max\",\n",
    "                showarrow=True,\n",
    "                arrowhead=7,\n",
    "                ax=-50,\n",
    "                ay=-20,\n",
    "                #font=dict(color=\"red\")\n",
    "            )])\n",
    "annotations3(g4)    \n",
    "\n",
    "\n",
    "#Fonction d'auto-ajustement de l'échelle du graphique de COT\n",
    "def echelle(g2):\n",
    "    cotf=g2.data[0].y[-1]\n",
    "    cotmin=np.amin(g2.data[0].y)\n",
    "    cotb=cotmin*0.90\n",
    "    coth=cotf+2*(cotf-cotb)\n",
    "    g2.update_yaxes(range=[cotb,coth])\n",
    "echelle(g2)    \n",
    "\n",
    "#Mise à jour des paramètres avec leurs coefficients\n",
    "def maj(F,R_fb,I_t,R_m,B_,R_e,R_p,Mu_p,Mu_m,A):   \n",
    "    Fiso.max=max(F*iprop[0],maxi[0])\n",
    "    Rfb.max=max(R_fb*iprop[1],maxi[1])\n",
    "    It.max=max(I_t*iprop[2],maxi[2])\n",
    "    Rm.max=max(R_m*iprop[3],maxi[3])\n",
    "    B.max=max(B_*iprop[4],maxi[4])\n",
    "    Re.max=max(R_e*iprop[5],maxi[5])\n",
    "    Rp.max=max(R_p*iprop[6],maxi[6])\n",
    "    Mu.max=max(Mu_p*iprop[8],maxi[7])\n",
    "    Alph.max=max(A*iprop[9],maxi[8])\n",
    "    Fiso.value,Rfb.value,It.value,Rm.value,B.value,Re.value,Rp.value,Mu.value,Alph.value=F*iprop[0],R_fb*iprop[1],I_t*iprop[2],R_m*iprop[3],B_*iprop[4],R_e*iprop[5],R_p*iprop[6],[Mu_m*iprop[8],Mu_p*iprop[7]],A*iprop[9]\n",
    "    \n",
    "#Réponse des graphiques aux changements de paramètres\n",
    "def response():\n",
    "    X=np.arange(0.0000,fin()+0.1,0.1)\n",
    "    Y=f(X)\n",
    "    with g.batch_update():\n",
    "        g.data[0].x = X\n",
    "        g.data[1].x = X\n",
    "        g.data[2].x = X\n",
    "        g.data[0].y = Y[0]\n",
    "        g.data[1].y = Y[1]\n",
    "        g.data[2].y = Y[2]\n",
    "    with g2.batch_update():\n",
    "        g2.data[0].x=X\n",
    "        g2.data[0].y=Y[3]\n",
    "    with g2.batch_update():\n",
    "        echelle(g2)\n",
    "        annotations2(g2)\n",
    "    with g.batch_update():\n",
    "        annotations1(g)\n",
    "    with g4.batch_update():\n",
    "        g4.data[0].x=Y[2]\n",
    "        g4.data[0].y=Y[4]\n",
    "    with g4.batch_update():\n",
    "        annotations3(g3)\n",
    "    with g5.batch_update():\n",
    "        g5.data[0].x=X\n",
    "        g5.data[0].y=Y[5]\n",
    "    with g3.batch_update():\n",
    "        g3.data[0].r=5*np.array([Fiso.value/maxi[0], Rfb.value/maxi[1], It.value/maxi[2], B.value/maxi[4], Rm.value/maxi[3] ])\n",
    "    if c[1]==True : Corps.value='aucun'\n",
    "    c[1]=True\n",
    "\n"
   ]
  },
  {
   "cell_type": "code",
   "execution_count": 309,
   "metadata": {
    "extensions": {
     "jupyter_dashboards": {
      "version": 1,
      "views": {
       "default_view": {
        "hidden": true
       }
      }
     }
    }
   },
   "outputs": [],
   "source": [
    "#Mise à jour des graphiques \n",
    "\n",
    "#Mise à jour des paramètres en fonction du modèle choisi\n",
    "def majmod(C):\n",
    "    Fiso.value=C[0]*maxi[0]/5\n",
    "    Rfb.value=C[1]*maxi[1]/5\n",
    "    It.value=C[2]*maxi[2]/5\n",
    "    B.value=C[3]*maxi[4]/5\n",
    "    Rm.value=C[4]*maxi[3]/5\n",
    "    \n",
    "#Booléen de Mise à jour\n",
    "c=[4,True]\n",
    "\n",
    "#Mise à jour des paramètres thermo en fonction des paramètres métaboliques\n",
    "def majth():\n",
    "    F,R_fb,I_t,R_m,B_,R_e,R_p,Mu_p,Mu_m,A=val()\n",
    "    r=min(B_/(F*I_t),1-10**(-2))\n",
    "    R_p=R_e*r/(1-r)\n",
    "    A=F/(R_e*B_)\n",
    "    Mu_m=R_fb*I_t/A\n",
    "    Mu_p=Mu_m*(F+R_fb*(1-r)*I_t)/(R_fb*(1-r)*I_t)\n",
    "    maj(F,R_fb,I_t,R_m,B_,R_e,R_p,Mu_p,Mu_m,A)\n",
    "    if c[0]==4 : response()\n",
    "    else : c[0]+=1\n",
    "majth()\n",
    "\n",
    "def response2(change):\n",
    "    FM2.value=(fm()//0.01)*0.01\n",
    "    b=BoutonDual.value\n",
    "    if not b or not c[1]:\n",
    "        majth()\n",
    "\n",
    "#Mise à jour des paramètres métaboliques en fonction des paramètres thermo\n",
    "def majmet():\n",
    "    F,R_fb,I_t,R_m,B_,R_e,R_p,Mu_p,Mu_m,A=val()\n",
    "    r=R_p/(R_p+R_e)\n",
    "    I_t=1/(A*r*R_e)\n",
    "    R_fb=A*Mu_m/I_t\n",
    "    F=A*(Mu_p-Mu_m)*(1-r)\n",
    "    B_=F/(A*R_e)\n",
    "    maj(F,R_fb,I_t,R_m,B_,R_e,R_p,Mu_p,Mu_m,A)\n",
    "    response()\n",
    "majmet()\n",
    "\n",
    "def response3(change):\n",
    "    b=BoutonDual.value\n",
    "    if b and c[1]:\n",
    "        majmet()\n",
    "\n",
    "#Mise à jour des paramètres en fonction du modèle choisi \n",
    "#La fonction dec triche et modifie infinitésimalement les paramètres quand on bascule sur 'aucun' \n",
    "def dec():\n",
    "    C=[]\n",
    "    for x in g3.data[0].r :\n",
    "        C.append(x+0.00000000000001)\n",
    "    return C\n",
    "        \n",
    "def responseCorps(change):\n",
    "    c[0]=0\n",
    "    c[1]=False\n",
    "    if Corps.value=='sportif': majmod(g3.data[1].r)\n",
    "    elif Corps.value=='sédentaire':majmod(g3.data[2].r)\n",
    "    elif Corps.value=='obèse':majmod(g3.data[3].r)\n",
    "    elif Corps.value=='aucun':majmod(dec())    \n",
    "\n",
    "#Mise à jour du set de paramètres servant à la représentation\n",
    "def responseDual(change):\n",
    "    dsb = BoutonDual.value\n",
    "    BoutonDual.description='R'+desc[BoutonDual.value]\n",
    "    BoutonDual.tooltip='Cliquer pour passer à la r'+desc[not BoutonDual.value]\n",
    "    Mu.disabled,Alph.disabled,Rp.disabled,Re.disabled= not dsb,not dsb,not dsb,not dsb\n",
    "    Fiso.disabled,Rfb.disabled,B.disabled,Rm.disabled,It.disabled=dsb, dsb, dsb, dsb, dsb\n",
    "\n",
    "#Mise à jour de la continuité de la mise à jour des graphiques\n",
    "def responseMaj(change):\n",
    "    temps_reel(BoutonMaj.value)\n",
    "\n",
    "#Observation des changements\n",
    "Fiso.observe(response2, names=\"value\")\n",
    "Rfb.observe(response2, names=\"value\")\n",
    "It.observe(response2, names=\"value\")\n",
    "B.observe(response2, names=\"value\")\n",
    "Rm.observe(response2, names=\"value\")\n",
    "Rp.observe(response3, names=\"value\")\n",
    "Re.observe(response3, names=\"value\")\n",
    "Mu.observe(response3, names=\"value\")\n",
    "Alph.observe(response3, names=\"value\")\n",
    "BoutonMaj.observe(responseMaj, names=\"value\")\n",
    "Corps.observe(responseCorps, names=\"value\")\n",
    "BoutonDual.observe(responseDual, names=\"value\")"
   ]
  },
  {
   "cell_type": "code",
   "execution_count": 310,
   "metadata": {
    "extensions": {
     "jupyter_dashboards": {
      "version": 1,
      "views": {
       "default_view": {
        "col": 0,
        "height": 4,
        "hidden": false,
        "row": 0,
        "width": 12
       }
      }
     }
    },
    "scrolled": false
   },
   "outputs": [
    {
     "data": {
      "application/vnd.jupyter.widget-view+json": {
       "model_id": "5269d70ef45c46f68761ae9fc1f19c64",
       "version_major": 2,
       "version_minor": 0
      },
      "text/plain": [
       "VBox(children=(HBox(children=(VBox(children=(HTML(value='<b>Paramètres métaboliques<b>'), HBox(children=(VBox(…"
      ]
     },
     "metadata": {},
     "output_type": "display_data"
    },
    {
     "data": {
      "application/vnd.jupyter.widget-view+json": {
       "model_id": "3ed79a72074845c48656480f627064ba",
       "version_major": 2,
       "version_minor": 0
      },
      "text/plain": [
       "Box(children=(FigureWidget({\n",
       "    'data': [{'name': 'COT',\n",
       "              'type': 'scatter',\n",
       "              'uid'…"
      ]
     },
     "metadata": {},
     "output_type": "display_data"
    },
    {
     "data": {
      "application/vnd.jupyter.widget-view+json": {
       "model_id": "b6311455f1dd4cdcb2ba0adeac586e64",
       "version_major": 2,
       "version_minor": 0
      },
      "text/plain": [
       "Box()"
      ]
     },
     "metadata": {},
     "output_type": "display_data"
    }
   ],
   "source": [
    "box_layout = widgets.Layout(width='1500px',min_width='1000px',max_width='2000px')\n",
    "box_layout2 = widgets.Layout(heigth='0px')\n",
    "#print(widgets.Layout.main-end.__doc__)\n",
    "#Affichage des éléments\n",
    "Meta=widgets.HTML(value=\"<b>Paramètres métaboliques<b>\")\n",
    "Thermo=widgets.HTML(value=\"<b>Paramètres thermodynamiques<b>\")\n",
    "container1=widgets.HBox([Fiso,Rfb,BoutonMaj])\n",
    "container2=widgets.HBox([It,B,BoutonDual])\n",
    "container3=widgets.HBox([Rm,FM,FM2])\n",
    "bc=widgets.VBox([container1,container2,container3])\n",
    "bcv=widgets.HBox([bc,Corps])\n",
    "bch=widgets.VBox([Meta,bcv])\n",
    "bc2=widgets.VBox([Thermo,Mu,Rp,Re,Alph])\n",
    "bbc=widgets.HBox([bch,bc2])\n",
    "container6=widgets.HBox([g,g3])\n",
    "w=widgets.VBox([bbc,container6],box_style='')\n",
    "ww=widgets.Box(children=[g2,g4,g5],layout=box_layout)\n",
    "display(w)\n",
    "display(ww)\n",
    "#maj(45.0,3,8.0,39,16.0,45.0,45.0,10.0,40.0,45.0)\n",
    "#maj(45.0,3,10.0,39,16.0,45.0,45.0,10.0,40.0,45.0)\n",
    "display(widgets.Box(children=[],layout=box_layout2))"
   ]
  },
  {
   "cell_type": "code",
   "execution_count": null,
   "metadata": {},
   "outputs": [],
   "source": []
  }
 ],
 "metadata": {
  "extensions": {
   "jupyter_dashboards": {
    "activeView": "default_view",
    "version": 1,
    "views": {
     "default_view": {
      "cellMargin": 10,
      "defaultCellHeight": 40,
      "maxColumns": 12,
      "name": "active_view",
      "type": "grid"
     }
    }
   }
  },
  "kernelspec": {
   "display_name": "Python 3",
   "language": "python",
   "name": "python3"
  },
  "language_info": {
   "codemirror_mode": {
    "name": "ipython",
    "version": 3
   },
   "file_extension": ".py",
   "mimetype": "text/x-python",
   "name": "python",
   "nbconvert_exporter": "python",
   "pygments_lexer": "ipython3",
   "version": "3.7.6"
  }
 },
 "nbformat": 4,
 "nbformat_minor": 4
}
